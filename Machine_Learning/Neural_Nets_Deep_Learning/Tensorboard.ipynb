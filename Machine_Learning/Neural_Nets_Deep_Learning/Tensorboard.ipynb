{
 "cells": [
  {
   "cell_type": "markdown",
   "metadata": {},
   "source": [
    "<a href=\"https://www.pieriandata.com\"><img src=\"../Pierian_Data_Logo.PNG\"></a>\n",
    "<strong><center>Copyright by Pierian Data Inc.</center></strong> \n",
    "<strong><center>Created by Jose Marcial Portilla.</center></strong>"
   ]
  },
  {
   "cell_type": "markdown",
   "metadata": {},
   "source": [
    "# Tensorboard\n",
    "\n",
    "---\n",
    "---\n",
    "\n",
    "**NOTE: You must watch the corresponding video to understand this lecture. This notebook can't serve as a full guide. Please watch the video BEFORE posting questions to the QA forum.**\n",
    "\n",
    "---\n",
    "---\n",
    "\n",
    "Let's explore the built in data visualization capabilities that come with Tensorboard.\n",
    "\n",
    "Full official tutorial available here: https://www.tensorflow.org/tensorboard/get_started\n",
    "\n",
    "## Data"
   ]
  },
  {
   "cell_type": "code",
   "execution_count": 1,
   "metadata": {},
   "outputs": [],
   "source": [
    "import pandas as pd\n",
    "import numpy as np"
   ]
  },
  {
   "cell_type": "code",
   "execution_count": 2,
   "metadata": {},
   "outputs": [],
   "source": [
    "df = pd.read_csv('./Data/cancer_classification.csv')"
   ]
  },
  {
   "cell_type": "markdown",
   "metadata": {},
   "source": [
    "### Train Test Split"
   ]
  },
  {
   "cell_type": "code",
   "execution_count": 3,
   "metadata": {},
   "outputs": [],
   "source": [
    "X = df.drop('benign_0__mal_1',axis=1).values\n",
    "y = df['benign_0__mal_1'].values"
   ]
  },
  {
   "cell_type": "code",
   "execution_count": 4,
   "metadata": {},
   "outputs": [],
   "source": [
    "from sklearn.model_selection import train_test_split"
   ]
  },
  {
   "cell_type": "code",
   "execution_count": 5,
   "metadata": {},
   "outputs": [],
   "source": [
    "X_train, X_test, y_train, y_test = train_test_split(X,y,test_size=0.25,random_state=101)"
   ]
  },
  {
   "cell_type": "markdown",
   "metadata": {},
   "source": [
    "\n",
    "### Scaling Data"
   ]
  },
  {
   "cell_type": "code",
   "execution_count": 6,
   "metadata": {},
   "outputs": [],
   "source": [
    "from sklearn.preprocessing import MinMaxScaler"
   ]
  },
  {
   "cell_type": "code",
   "execution_count": 7,
   "metadata": {},
   "outputs": [],
   "source": [
    "scaler = MinMaxScaler()"
   ]
  },
  {
   "cell_type": "code",
   "execution_count": 8,
   "metadata": {},
   "outputs": [
    {
     "data": {
      "text/plain": [
       "MinMaxScaler()"
      ]
     },
     "execution_count": 8,
     "metadata": {},
     "output_type": "execute_result"
    }
   ],
   "source": [
    "scaler.fit(X_train)"
   ]
  },
  {
   "cell_type": "code",
   "execution_count": 9,
   "metadata": {},
   "outputs": [],
   "source": [
    "X_train = scaler.transform(X_train)\n",
    "X_test = scaler.transform(X_test)"
   ]
  },
  {
   "cell_type": "markdown",
   "metadata": {},
   "source": [
    "## Creating the Model"
   ]
  },
  {
   "cell_type": "code",
   "execution_count": 10,
   "metadata": {},
   "outputs": [],
   "source": [
    "import tensorflow as tf\n",
    "from tensorflow.keras.models import Sequential\n",
    "from tensorflow.keras.layers import Dense, Activation,Dropout"
   ]
  },
  {
   "cell_type": "code",
   "execution_count": 11,
   "metadata": {},
   "outputs": [],
   "source": [
    "from tensorflow.keras.callbacks import EarlyStopping,TensorBoard"
   ]
  },
  {
   "cell_type": "code",
   "execution_count": 12,
   "metadata": {},
   "outputs": [],
   "source": [
    "early_stop = EarlyStopping(monitor='val_loss', mode='min', verbose=1, patience=25)"
   ]
  },
  {
   "cell_type": "code",
   "execution_count": 13,
   "metadata": {},
   "outputs": [
    {
     "data": {
      "text/plain": [
       "'C:\\\\Users\\\\ahmad\\\\Downloads\\\\Udemy_ML\\\\Machine_Learning\\\\Neural_Nets_Deep_Learning'"
      ]
     },
     "execution_count": 13,
     "metadata": {},
     "output_type": "execute_result"
    }
   ],
   "source": [
    "pwd"
   ]
  },
  {
   "cell_type": "markdown",
   "metadata": {},
   "source": [
    "## Creating the Tensorboard Callback\n",
    "\n",
    "TensorBoard is a visualization tool provided with TensorFlow.\n",
    "\n",
    "This callback logs events for TensorBoard, including:\n",
    "* Metrics summary plots\n",
    "* Training graph visualization\n",
    "* Activation histograms\n",
    "* Sampled profiling\n",
    "\n",
    "If you have installed TensorFlow with pip, you should be able\n",
    "to launch TensorBoard from the command line:\n",
    "\n",
    "```sh\n",
    "tensorboard --logdir=path_to_your_logs\n",
    "```\n",
    "\n",
    "You can find more information about TensorBoard\n",
    "[here](https://www.tensorflow.org/tensorboard/).\n",
    "\n",
    "    Arguments:\n",
    "        log_dir: the path of the directory where to save the log files to be\n",
    "          parsed by TensorBoard.\n",
    "        histogram_freq: frequency (in epochs) at which to compute activation and\n",
    "          weight histograms for the layers of the model. If set to 0, histograms\n",
    "          won't be computed. Validation data (or split) must be specified for\n",
    "          histogram visualizations.\n",
    "        write_graph: whether to visualize the graph in TensorBoard. The log file\n",
    "          can become quite large when write_graph is set to True.\n",
    "        write_images: whether to write model weights to visualize as image in\n",
    "          TensorBoard.\n",
    "        update_freq: `'batch'` or `'epoch'` or integer. When using `'batch'`,\n",
    "          writes the losses and metrics to TensorBoard after each batch. The same\n",
    "          applies for `'epoch'`. If using an integer, let's say `1000`, the\n",
    "          callback will write the metrics and losses to TensorBoard every 1000\n",
    "          samples. Note that writing too frequently to TensorBoard can slow down\n",
    "          your training.\n",
    "        profile_batch: Profile the batch to sample compute characteristics. By\n",
    "          default, it will profile the second batch. Set profile_batch=0 to\n",
    "          disable profiling. Must run in TensorFlow eager mode.\n",
    "        embeddings_freq: frequency (in epochs) at which embedding layers will\n",
    "          be visualized. If set to 0, embeddings won't be visualized.\n",
    "       "
   ]
  },
  {
   "cell_type": "code",
   "execution_count": 14,
   "metadata": {},
   "outputs": [],
   "source": [
    "from datetime import datetime"
   ]
  },
  {
   "cell_type": "code",
   "execution_count": 15,
   "metadata": {},
   "outputs": [
    {
     "data": {
      "text/plain": [
       "'2022-03-26--1730'"
      ]
     },
     "execution_count": 15,
     "metadata": {},
     "output_type": "execute_result"
    }
   ],
   "source": [
    "datetime.now().strftime(\"%Y-%m-%d--%H%M\")"
   ]
  },
  {
   "cell_type": "code",
   "execution_count": 16,
   "metadata": {},
   "outputs": [],
   "source": [
    "# WINDOWS: Use \"logs\\\\fit\"\n",
    "# MACOS/LINUX: Use \"logs\\fit\"\n",
    "\n",
    "log_directory = 'logs\\\\fit'\n",
    "\n",
    "# OPTIONAL: ADD A TIMESTAMP FOR UNIQUE FOLDER\n",
    "# timestamp = datetime.now().strftime(\"%Y-%m-%d--%H%M\")\n",
    "# log_directory = log_directory + '\\\\' + timestamp\n",
    "\n",
    "\n",
    "board = TensorBoard(log_dir=log_directory,histogram_freq=1,\n",
    "    write_graph=True,\n",
    "    write_images=True,\n",
    "    update_freq='epoch',\n",
    "    profile_batch=2,\n",
    "    embeddings_freq=1)"
   ]
  },
  {
   "cell_type": "markdown",
   "metadata": {},
   "source": [
    "Now create the model layers:"
   ]
  },
  {
   "cell_type": "code",
   "execution_count": 17,
   "metadata": {},
   "outputs": [],
   "source": [
    "model = Sequential()\n",
    "model.add(Dense(units=30,activation='relu'))\n",
    "model.add(Dropout(0.5))\n",
    "model.add(Dense(units=15,activation='relu'))\n",
    "model.add(Dropout(0.5))\n",
    "model.add(Dense(units=1,activation='sigmoid'))\n",
    "model.compile(loss='binary_crossentropy', optimizer='adam')"
   ]
  },
  {
   "cell_type": "markdown",
   "metadata": {},
   "source": [
    "## Train the Model"
   ]
  },
  {
   "cell_type": "code",
   "execution_count": 18,
   "metadata": {},
   "outputs": [
    {
     "name": "stdout",
     "output_type": "stream",
     "text": [
      "Epoch 1/600\n",
      "14/14 [==============================] - 1s 22ms/step - loss: 0.6987 - val_loss: 0.6788\n",
      "Epoch 2/600\n",
      "14/14 [==============================] - 0s 12ms/step - loss: 0.7017 - val_loss: 0.6608\n",
      "Epoch 3/600\n",
      "14/14 [==============================] - 0s 11ms/step - loss: 0.6882 - val_loss: 0.6467\n",
      "Epoch 4/600\n",
      "14/14 [==============================] - 0s 9ms/step - loss: 0.6501 - val_loss: 0.6315\n",
      "Epoch 5/600\n",
      "14/14 [==============================] - 0s 9ms/step - loss: 0.6240 - val_loss: 0.6146\n",
      "Epoch 6/600\n",
      "14/14 [==============================] - 0s 10ms/step - loss: 0.6113 - val_loss: 0.5838\n",
      "Epoch 7/600\n",
      "14/14 [==============================] - 0s 10ms/step - loss: 0.5976 - val_loss: 0.5570\n",
      "Epoch 8/600\n",
      "14/14 [==============================] - 0s 15ms/step - loss: 0.5873 - val_loss: 0.5282\n",
      "Epoch 9/600\n",
      "14/14 [==============================] - 0s 15ms/step - loss: 0.5448 - val_loss: 0.4973\n",
      "Epoch 10/600\n",
      "14/14 [==============================] - 0s 10ms/step - loss: 0.5361 - val_loss: 0.4690\n",
      "Epoch 11/600\n",
      "14/14 [==============================] - 0s 10ms/step - loss: 0.5267 - val_loss: 0.4421\n",
      "Epoch 12/600\n",
      "14/14 [==============================] - 0s 10ms/step - loss: 0.4961 - val_loss: 0.4152\n",
      "Epoch 13/600\n",
      "14/14 [==============================] - 0s 12ms/step - loss: 0.4695 - val_loss: 0.3789\n",
      "Epoch 14/600\n",
      "14/14 [==============================] - 0s 8ms/step - loss: 0.4754 - val_loss: 0.3591\n",
      "Epoch 15/600\n",
      "14/14 [==============================] - 0s 9ms/step - loss: 0.4146 - val_loss: 0.3369\n",
      "Epoch 16/600\n",
      "14/14 [==============================] - 0s 9ms/step - loss: 0.4576 - val_loss: 0.3257\n",
      "Epoch 17/600\n",
      "14/14 [==============================] - 0s 8ms/step - loss: 0.4051 - val_loss: 0.3032\n",
      "Epoch 18/600\n",
      "14/14 [==============================] - 0s 10ms/step - loss: 0.3983 - val_loss: 0.2827\n",
      "Epoch 19/600\n",
      "14/14 [==============================] - 0s 9ms/step - loss: 0.3673 - val_loss: 0.2631\n",
      "Epoch 20/600\n",
      "14/14 [==============================] - 0s 9ms/step - loss: 0.3615 - val_loss: 0.2524\n",
      "Epoch 21/600\n",
      "14/14 [==============================] - 0s 12ms/step - loss: 0.3487 - val_loss: 0.2406\n",
      "Epoch 22/600\n",
      "14/14 [==============================] - 0s 9ms/step - loss: 0.3384 - val_loss: 0.2239\n",
      "Epoch 23/600\n",
      "14/14 [==============================] - 0s 10ms/step - loss: 0.3246 - val_loss: 0.2171\n",
      "Epoch 24/600\n",
      "14/14 [==============================] - 0s 10ms/step - loss: 0.3016 - val_loss: 0.2067\n",
      "Epoch 25/600\n",
      "14/14 [==============================] - 0s 11ms/step - loss: 0.2971 - val_loss: 0.1984\n",
      "Epoch 26/600\n",
      "14/14 [==============================] - 0s 16ms/step - loss: 0.3198 - val_loss: 0.1982\n",
      "Epoch 27/600\n",
      "14/14 [==============================] - 0s 14ms/step - loss: 0.2843 - val_loss: 0.1898\n",
      "Epoch 28/600\n",
      "14/14 [==============================] - 0s 10ms/step - loss: 0.2946 - val_loss: 0.1897\n",
      "Epoch 29/600\n",
      "14/14 [==============================] - 0s 9ms/step - loss: 0.2877 - val_loss: 0.1850\n",
      "Epoch 30/600\n",
      "14/14 [==============================] - 0s 9ms/step - loss: 0.2795 - val_loss: 0.1710\n",
      "Epoch 31/600\n",
      "14/14 [==============================] - 0s 11ms/step - loss: 0.2719 - val_loss: 0.1646\n",
      "Epoch 32/600\n",
      "14/14 [==============================] - 0s 10ms/step - loss: 0.2468 - val_loss: 0.1638\n",
      "Epoch 33/600\n",
      "14/14 [==============================] - 0s 15ms/step - loss: 0.2473 - val_loss: 0.1576\n",
      "Epoch 34/600\n",
      "14/14 [==============================] - 0s 9ms/step - loss: 0.2573 - val_loss: 0.1486\n",
      "Epoch 35/600\n",
      "14/14 [==============================] - 0s 11ms/step - loss: 0.2490 - val_loss: 0.1528\n",
      "Epoch 36/600\n",
      "14/14 [==============================] - 0s 12ms/step - loss: 0.2299 - val_loss: 0.1513\n",
      "Epoch 37/600\n",
      "14/14 [==============================] - 0s 9ms/step - loss: 0.2209 - val_loss: 0.1403\n",
      "Epoch 38/600\n",
      "14/14 [==============================] - 0s 11ms/step - loss: 0.2280 - val_loss: 0.1429\n",
      "Epoch 39/600\n",
      "14/14 [==============================] - 0s 10ms/step - loss: 0.2546 - val_loss: 0.1371\n",
      "Epoch 40/600\n",
      "14/14 [==============================] - 0s 11ms/step - loss: 0.2130 - val_loss: 0.1343\n",
      "Epoch 41/600\n",
      "14/14 [==============================] - 0s 10ms/step - loss: 0.1968 - val_loss: 0.1292\n",
      "Epoch 42/600\n",
      "14/14 [==============================] - 0s 10ms/step - loss: 0.2153 - val_loss: 0.1274\n",
      "Epoch 43/600\n",
      "14/14 [==============================] - 0s 11ms/step - loss: 0.1990 - val_loss: 0.1270\n",
      "Epoch 44/600\n",
      "14/14 [==============================] - 0s 10ms/step - loss: 0.2090 - val_loss: 0.1242\n",
      "Epoch 45/600\n",
      "14/14 [==============================] - 0s 8ms/step - loss: 0.2017 - val_loss: 0.1242\n",
      "Epoch 46/600\n",
      "14/14 [==============================] - 0s 8ms/step - loss: 0.1881 - val_loss: 0.1268\n",
      "Epoch 47/600\n",
      "14/14 [==============================] - 0s 8ms/step - loss: 0.1815 - val_loss: 0.1171\n",
      "Epoch 48/600\n",
      "14/14 [==============================] - 0s 10ms/step - loss: 0.1757 - val_loss: 0.1150\n",
      "Epoch 49/600\n",
      "14/14 [==============================] - 0s 8ms/step - loss: 0.1876 - val_loss: 0.1145\n",
      "Epoch 50/600\n",
      "14/14 [==============================] - 0s 10ms/step - loss: 0.1602 - val_loss: 0.1105\n",
      "Epoch 51/600\n",
      "14/14 [==============================] - 0s 8ms/step - loss: 0.1612 - val_loss: 0.1100\n",
      "Epoch 52/600\n",
      "14/14 [==============================] - 0s 10ms/step - loss: 0.1765 - val_loss: 0.1045\n",
      "Epoch 53/600\n",
      "14/14 [==============================] - 0s 8ms/step - loss: 0.1589 - val_loss: 0.1077\n",
      "Epoch 54/600\n",
      "14/14 [==============================] - 0s 8ms/step - loss: 0.1694 - val_loss: 0.1198\n",
      "Epoch 55/600\n",
      "14/14 [==============================] - 0s 10ms/step - loss: 0.1589 - val_loss: 0.1043\n",
      "Epoch 56/600\n",
      "14/14 [==============================] - 0s 10ms/step - loss: 0.1716 - val_loss: 0.1034\n",
      "Epoch 57/600\n",
      "14/14 [==============================] - 0s 8ms/step - loss: 0.1603 - val_loss: 0.1064\n",
      "Epoch 58/600\n",
      "14/14 [==============================] - 0s 10ms/step - loss: 0.1444 - val_loss: 0.1033\n",
      "Epoch 59/600\n",
      "14/14 [==============================] - 0s 8ms/step - loss: 0.1343 - val_loss: 0.1025\n",
      "Epoch 60/600\n",
      "14/14 [==============================] - 0s 8ms/step - loss: 0.1691 - val_loss: 0.1001\n",
      "Epoch 61/600\n",
      "14/14 [==============================] - 0s 7ms/step - loss: 0.1430 - val_loss: 0.1017\n",
      "Epoch 62/600\n",
      "14/14 [==============================] - 0s 8ms/step - loss: 0.1395 - val_loss: 0.1021\n",
      "Epoch 63/600\n",
      "14/14 [==============================] - 0s 10ms/step - loss: 0.1391 - val_loss: 0.1017\n",
      "Epoch 64/600\n",
      "14/14 [==============================] - 0s 7ms/step - loss: 0.1350 - val_loss: 0.0997\n",
      "Epoch 65/600\n",
      "14/14 [==============================] - 0s 7ms/step - loss: 0.1308 - val_loss: 0.0986\n",
      "Epoch 66/600\n",
      "14/14 [==============================] - ETA: 0s - loss: 0.132 - 0s 7ms/step - loss: 0.1181 - val_loss: 0.0972\n",
      "Epoch 67/600\n",
      "14/14 [==============================] - 0s 8ms/step - loss: 0.1181 - val_loss: 0.0970\n",
      "Epoch 68/600\n",
      "14/14 [==============================] - 0s 8ms/step - loss: 0.1383 - val_loss: 0.0936\n",
      "Epoch 69/600\n",
      "14/14 [==============================] - 0s 7ms/step - loss: 0.1553 - val_loss: 0.0967\n",
      "Epoch 70/600\n",
      "14/14 [==============================] - 0s 10ms/step - loss: 0.1438 - val_loss: 0.0940\n",
      "Epoch 71/600\n",
      "14/14 [==============================] - 0s 8ms/step - loss: 0.1353 - val_loss: 0.0926\n",
      "Epoch 72/600\n",
      "14/14 [==============================] - 0s 7ms/step - loss: 0.1432 - val_loss: 0.0958\n",
      "Epoch 73/600\n",
      "14/14 [==============================] - 0s 8ms/step - loss: 0.1237 - val_loss: 0.0912\n",
      "Epoch 74/600\n",
      "14/14 [==============================] - 0s 10ms/step - loss: 0.1248 - val_loss: 0.0933\n",
      "Epoch 75/600\n",
      "14/14 [==============================] - 0s 7ms/step - loss: 0.1261 - val_loss: 0.1012\n",
      "Epoch 76/600\n",
      "14/14 [==============================] - 0s 7ms/step - loss: 0.1243 - val_loss: 0.0920\n",
      "Epoch 77/600\n",
      "14/14 [==============================] - 0s 8ms/step - loss: 0.1313 - val_loss: 0.0914\n",
      "Epoch 78/600\n",
      "14/14 [==============================] - 0s 8ms/step - loss: 0.1212 - val_loss: 0.0910\n",
      "Epoch 79/600\n",
      "14/14 [==============================] - 0s 8ms/step - loss: 0.1329 - val_loss: 0.0988\n",
      "Epoch 80/600\n",
      "14/14 [==============================] - 0s 10ms/step - loss: 0.1093 - val_loss: 0.0923\n",
      "Epoch 81/600\n",
      "14/14 [==============================] - 0s 10ms/step - loss: 0.1156 - val_loss: 0.0895\n",
      "Epoch 82/600\n"
     ]
    },
    {
     "name": "stdout",
     "output_type": "stream",
     "text": [
      "14/14 [==============================] - 0s 12ms/step - loss: 0.1192 - val_loss: 0.0963\n",
      "Epoch 83/600\n",
      "14/14 [==============================] - 0s 12ms/step - loss: 0.1336 - val_loss: 0.0888\n",
      "Epoch 84/600\n",
      "14/14 [==============================] - 0s 10ms/step - loss: 0.1125 - val_loss: 0.0916\n",
      "Epoch 85/600\n",
      "14/14 [==============================] - 0s 10ms/step - loss: 0.1245 - val_loss: 0.0903\n",
      "Epoch 86/600\n",
      "14/14 [==============================] - 0s 11ms/step - loss: 0.1182 - val_loss: 0.0881\n",
      "Epoch 87/600\n",
      "14/14 [==============================] - 0s 10ms/step - loss: 0.1235 - val_loss: 0.0874\n",
      "Epoch 88/600\n",
      "14/14 [==============================] - 0s 12ms/step - loss: 0.1198 - val_loss: 0.0877\n",
      "Epoch 89/600\n",
      "14/14 [==============================] - 0s 13ms/step - loss: 0.1191 - val_loss: 0.0901\n",
      "Epoch 90/600\n",
      "14/14 [==============================] - 0s 10ms/step - loss: 0.1092 - val_loss: 0.0945\n",
      "Epoch 91/600\n",
      "14/14 [==============================] - 0s 14ms/step - loss: 0.1076 - val_loss: 0.0962\n",
      "Epoch 92/600\n",
      "14/14 [==============================] - 0s 11ms/step - loss: 0.1155 - val_loss: 0.0900\n",
      "Epoch 93/600\n",
      "14/14 [==============================] - 0s 12ms/step - loss: 0.1166 - val_loss: 0.0913\n",
      "Epoch 94/600\n",
      "14/14 [==============================] - 0s 12ms/step - loss: 0.1150 - val_loss: 0.0875\n",
      "Epoch 95/600\n",
      "14/14 [==============================] - 0s 14ms/step - loss: 0.1038 - val_loss: 0.0923\n",
      "Epoch 96/600\n",
      "14/14 [==============================] - 0s 12ms/step - loss: 0.1114 - val_loss: 0.0903\n",
      "Epoch 97/600\n",
      "14/14 [==============================] - 0s 11ms/step - loss: 0.1071 - val_loss: 0.0876\n",
      "Epoch 98/600\n",
      "14/14 [==============================] - 0s 10ms/step - loss: 0.1058 - val_loss: 0.0896\n",
      "Epoch 99/600\n",
      "14/14 [==============================] - 0s 11ms/step - loss: 0.1170 - val_loss: 0.0883\n",
      "Epoch 100/600\n",
      "14/14 [==============================] - 0s 11ms/step - loss: 0.0969 - val_loss: 0.0954\n",
      "Epoch 101/600\n",
      "14/14 [==============================] - 0s 13ms/step - loss: 0.0962 - val_loss: 0.0925\n",
      "Epoch 102/600\n",
      "14/14 [==============================] - 0s 10ms/step - loss: 0.0975 - val_loss: 0.0898\n",
      "Epoch 103/600\n",
      "14/14 [==============================] - 0s 10ms/step - loss: 0.0924 - val_loss: 0.0889\n",
      "Epoch 104/600\n",
      "14/14 [==============================] - 0s 12ms/step - loss: 0.1112 - val_loss: 0.0918\n",
      "Epoch 105/600\n",
      "14/14 [==============================] - 0s 10ms/step - loss: 0.0833 - val_loss: 0.0907\n",
      "Epoch 106/600\n",
      "14/14 [==============================] - 0s 10ms/step - loss: 0.0988 - val_loss: 0.0943\n",
      "Epoch 107/600\n",
      "14/14 [==============================] - 0s 11ms/step - loss: 0.1216 - val_loss: 0.0922\n",
      "Epoch 108/600\n",
      "14/14 [==============================] - 0s 12ms/step - loss: 0.0912 - val_loss: 0.0902\n",
      "Epoch 109/600\n",
      "14/14 [==============================] - 0s 18ms/step - loss: 0.1049 - val_loss: 0.0849\n",
      "Epoch 110/600\n",
      "14/14 [==============================] - 0s 13ms/step - loss: 0.0838 - val_loss: 0.0906\n",
      "Epoch 111/600\n",
      "14/14 [==============================] - 0s 11ms/step - loss: 0.0706 - val_loss: 0.0876\n",
      "Epoch 112/600\n",
      "14/14 [==============================] - 0s 10ms/step - loss: 0.0787 - val_loss: 0.0894\n",
      "Epoch 113/600\n",
      "14/14 [==============================] - 0s 13ms/step - loss: 0.1064 - val_loss: 0.0925\n",
      "Epoch 114/600\n",
      "14/14 [==============================] - 0s 11ms/step - loss: 0.0969 - val_loss: 0.0891\n",
      "Epoch 115/600\n",
      "14/14 [==============================] - 0s 10ms/step - loss: 0.0903 - val_loss: 0.0861\n",
      "Epoch 116/600\n",
      "14/14 [==============================] - 0s 11ms/step - loss: 0.0948 - val_loss: 0.0867\n",
      "Epoch 117/600\n",
      "14/14 [==============================] - 0s 9ms/step - loss: 0.0875 - val_loss: 0.0884\n",
      "Epoch 118/600\n",
      "14/14 [==============================] - 0s 10ms/step - loss: 0.0906 - val_loss: 0.0916\n",
      "Epoch 119/600\n",
      "14/14 [==============================] - 0s 10ms/step - loss: 0.1069 - val_loss: 0.0902\n",
      "Epoch 120/600\n",
      "14/14 [==============================] - 0s 9ms/step - loss: 0.1067 - val_loss: 0.0862\n",
      "Epoch 121/600\n",
      "14/14 [==============================] - 0s 8ms/step - loss: 0.1064 - val_loss: 0.0854\n",
      "Epoch 122/600\n",
      "14/14 [==============================] - 1s 50ms/step - loss: 0.0937 - val_loss: 0.0850\n",
      "Epoch 123/600\n",
      "14/14 [==============================] - 0s 13ms/step - loss: 0.0853 - val_loss: 0.0848\n",
      "Epoch 124/600\n",
      "14/14 [==============================] - 0s 14ms/step - loss: 0.0977 - val_loss: 0.0873\n",
      "Epoch 125/600\n",
      "14/14 [==============================] - 0s 12ms/step - loss: 0.1015 - val_loss: 0.0894\n",
      "Epoch 126/600\n",
      "14/14 [==============================] - 0s 8ms/step - loss: 0.0891 - val_loss: 0.0857\n",
      "Epoch 127/600\n",
      "14/14 [==============================] - 0s 8ms/step - loss: 0.0905 - val_loss: 0.0927\n",
      "Epoch 128/600\n",
      "14/14 [==============================] - 0s 8ms/step - loss: 0.1008 - val_loss: 0.0860\n",
      "Epoch 129/600\n",
      "14/14 [==============================] - 0s 8ms/step - loss: 0.0888 - val_loss: 0.0848\n",
      "Epoch 130/600\n",
      "14/14 [==============================] - 0s 10ms/step - loss: 0.0921 - val_loss: 0.0903\n",
      "Epoch 131/600\n",
      "14/14 [==============================] - 0s 10ms/step - loss: 0.0840 - val_loss: 0.0900\n",
      "Epoch 132/600\n",
      "14/14 [==============================] - 0s 8ms/step - loss: 0.0918 - val_loss: 0.0994\n",
      "Epoch 133/600\n",
      "14/14 [==============================] - 0s 8ms/step - loss: 0.0884 - val_loss: 0.0893\n",
      "Epoch 134/600\n",
      "14/14 [==============================] - 0s 8ms/step - loss: 0.0639 - val_loss: 0.0873\n",
      "Epoch 135/600\n",
      "14/14 [==============================] - 0s 8ms/step - loss: 0.0866 - val_loss: 0.0890\n",
      "Epoch 136/600\n",
      "14/14 [==============================] - 0s 8ms/step - loss: 0.0954 - val_loss: 0.0985\n",
      "Epoch 137/600\n",
      "14/14 [==============================] - 0s 8ms/step - loss: 0.0713 - val_loss: 0.0867\n",
      "Epoch 138/600\n",
      "14/14 [==============================] - 0s 8ms/step - loss: 0.0894 - val_loss: 0.0947\n",
      "Epoch 139/600\n",
      "14/14 [==============================] - 0s 8ms/step - loss: 0.0888 - val_loss: 0.1078\n",
      "Epoch 140/600\n",
      "14/14 [==============================] - 0s 8ms/step - loss: 0.0903 - val_loss: 0.0898\n",
      "Epoch 141/600\n",
      "14/14 [==============================] - 0s 8ms/step - loss: 0.0805 - val_loss: 0.0915\n",
      "Epoch 142/600\n",
      "14/14 [==============================] - 0s 10ms/step - loss: 0.1086 - val_loss: 0.1094\n",
      "Epoch 143/600\n",
      "14/14 [==============================] - 0s 8ms/step - loss: 0.0968 - val_loss: 0.1017\n",
      "Epoch 144/600\n",
      "14/14 [==============================] - 0s 7ms/step - loss: 0.0863 - val_loss: 0.0848\n",
      "Epoch 145/600\n",
      "14/14 [==============================] - 0s 7ms/step - loss: 0.1037 - val_loss: 0.0897\n",
      "Epoch 146/600\n",
      "14/14 [==============================] - 0s 11ms/step - loss: 0.0796 - val_loss: 0.0927\n",
      "Epoch 147/600\n",
      "14/14 [==============================] - 0s 11ms/step - loss: 0.0995 - val_loss: 0.0864\n",
      "Epoch 148/600\n",
      "14/14 [==============================] - 0s 11ms/step - loss: 0.0870 - val_loss: 0.0872\n",
      "Epoch 149/600\n",
      "14/14 [==============================] - 0s 10ms/step - loss: 0.0799 - val_loss: 0.0937\n",
      "Epoch 150/600\n",
      "14/14 [==============================] - 0s 10ms/step - loss: 0.0785 - val_loss: 0.0871\n",
      "Epoch 151/600\n",
      "14/14 [==============================] - 0s 10ms/step - loss: 0.0907 - val_loss: 0.0869\n",
      "Epoch 152/600\n",
      "14/14 [==============================] - 0s 8ms/step - loss: 0.0878 - val_loss: 0.1062\n",
      "Epoch 153/600\n",
      "14/14 [==============================] - 0s 12ms/step - loss: 0.0873 - val_loss: 0.0884\n",
      "Epoch 154/600\n",
      "14/14 [==============================] - 0s 17ms/step - loss: 0.0886 - val_loss: 0.0873\n",
      "Epoch 155/600\n",
      "14/14 [==============================] - 0s 10ms/step - loss: 0.0773 - val_loss: 0.0891\n",
      "Epoch 156/600\n",
      "14/14 [==============================] - 0s 11ms/step - loss: 0.0809 - val_loss: 0.0893\n",
      "Epoch 157/600\n",
      "14/14 [==============================] - 0s 11ms/step - loss: 0.1012 - val_loss: 0.0887\n",
      "Epoch 158/600\n",
      "14/14 [==============================] - 0s 11ms/step - loss: 0.0839 - val_loss: 0.0987\n",
      "Epoch 159/600\n",
      "14/14 [==============================] - 0s 13ms/step - loss: 0.0903 - val_loss: 0.0875\n",
      "Epoch 160/600\n",
      "14/14 [==============================] - 0s 13ms/step - loss: 0.0847 - val_loss: 0.0935\n",
      "Epoch 161/600\n",
      "14/14 [==============================] - 0s 13ms/step - loss: 0.0679 - val_loss: 0.0904\n",
      "Epoch 162/600\n",
      "14/14 [==============================] - 0s 11ms/step - loss: 0.0886 - val_loss: 0.0877\n"
     ]
    },
    {
     "name": "stdout",
     "output_type": "stream",
     "text": [
      "Epoch 163/600\n",
      "14/14 [==============================] - 0s 10ms/step - loss: 0.1015 - val_loss: 0.1299\n",
      "Epoch 164/600\n",
      "14/14 [==============================] - 0s 12ms/step - loss: 0.0800 - val_loss: 0.0869\n",
      "Epoch 165/600\n",
      "14/14 [==============================] - 0s 11ms/step - loss: 0.0668 - val_loss: 0.0877\n",
      "Epoch 166/600\n",
      "14/14 [==============================] - 0s 16ms/step - loss: 0.0837 - val_loss: 0.0989\n",
      "Epoch 167/600\n",
      "14/14 [==============================] - 0s 11ms/step - loss: 0.0806 - val_loss: 0.0884\n",
      "Epoch 168/600\n",
      "14/14 [==============================] - 0s 8ms/step - loss: 0.0919 - val_loss: 0.0935\n",
      "Epoch 169/600\n",
      "14/14 [==============================] - 0s 11ms/step - loss: 0.0974 - val_loss: 0.0948\n",
      "Epoch 00169: early stopping\n"
     ]
    },
    {
     "data": {
      "text/plain": [
       "<keras.callbacks.History at 0x22b25a09400>"
      ]
     },
     "execution_count": 18,
     "metadata": {},
     "output_type": "execute_result"
    }
   ],
   "source": [
    "model.fit(x=X_train, \n",
    "          y=y_train, \n",
    "          epochs=600,\n",
    "          validation_data=(X_test, y_test), verbose=1,\n",
    "          callbacks=[early_stop,board]\n",
    "          )"
   ]
  },
  {
   "cell_type": "markdown",
   "metadata": {},
   "source": [
    "# Running Tensorboard\n"
   ]
  },
  {
   "cell_type": "markdown",
   "metadata": {},
   "source": [
    "## Running through the Command Line\n",
    "\n",
    "**Watch video to see how to run Tensorboard through a command line call.**"
   ]
  },
  {
   "cell_type": "markdown",
   "metadata": {},
   "source": [
    "Tensorboard will run locally in your browser at [http://localhost:6006/](http://localhost:6006/)\n"
   ]
  },
  {
   "cell_type": "code",
   "execution_count": 19,
   "metadata": {},
   "outputs": [
    {
     "name": "stdout",
     "output_type": "stream",
     "text": [
      "logs\\fit\n"
     ]
    }
   ],
   "source": [
    "print(log_directory)"
   ]
  },
  {
   "cell_type": "code",
   "execution_count": 20,
   "metadata": {},
   "outputs": [
    {
     "data": {
      "text/plain": [
       "'C:\\\\Users\\\\ahmad\\\\Downloads\\\\Udemy_ML\\\\Machine_Learning\\\\Neural_Nets_Deep_Learning'"
      ]
     },
     "execution_count": 20,
     "metadata": {},
     "output_type": "execute_result"
    }
   ],
   "source": [
    "pwd"
   ]
  },
  {
   "cell_type": "markdown",
   "metadata": {},
   "source": [
    "### Use cd at your command line to change directory to the file path reported back by pwd or your current .py file location.\n",
    "### Then run this code at your command line or terminal"
   ]
  },
  {
   "cell_type": "code",
   "execution_count": null,
   "metadata": {},
   "outputs": [],
   "source": [
    "tensorboard --logdir ./logs/fit/"
   ]
  },
  {
   "cell_type": "code",
   "execution_count": null,
   "metadata": {},
   "outputs": [],
   "source": []
  }
 ],
 "metadata": {
  "kernelspec": {
   "display_name": "Python 3 (ipykernel)",
   "language": "python",
   "name": "python3"
  },
  "language_info": {
   "codemirror_mode": {
    "name": "ipython",
    "version": 3
   },
   "file_extension": ".py",
   "mimetype": "text/x-python",
   "name": "python",
   "nbconvert_exporter": "python",
   "pygments_lexer": "ipython3",
   "version": "3.9.7"
  }
 },
 "nbformat": 4,
 "nbformat_minor": 2
}
